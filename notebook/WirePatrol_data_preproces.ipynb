{
 "cells": [
  {
   "cell_type": "markdown",
   "id": "82cd0f7c",
   "metadata": {},
   "source": [
    "### Data preprocessing"
   ]
  },
  {
   "cell_type": "code",
   "execution_count": null,
   "id": "c2e25791",
   "metadata": {},
   "outputs": [],
   "source": [
    "import pandas as pd\n",
    "import pyshark\n",
    "import numpy as np\n",
    "from pathlib import Path\n",
    "import nest_asyncio\n",
    "nest_asyncio.apply()"
   ]
  },
  {
   "cell_type": "code",
   "execution_count": null,
   "id": "92178ace",
   "metadata": {},
   "outputs": [],
   "source": [
    "# Step 1: Parse the pcapng file using pyshark\n",
    "path_to_data = Path.cwd().parent / \"Data\"\n",
    "\n",
    "path_to_pcapng = path_to_data / \"raw/ALL_20250721_194104.pcapng\"\n",
    "\n",
    "cap = pyshark.FileCapture(path_to_pcapng, keep_packets=False)"
   ]
  }
 ],
 "metadata": {
  "kernelspec": {
   "display_name": "WirePatrol",
   "language": "python",
   "name": "python3"
  },
  "language_info": {
   "codemirror_mode": {
    "name": "ipython",
    "version": 3
   },
   "file_extension": ".py",
   "mimetype": "text/x-python",
   "name": "python",
   "nbconvert_exporter": "python",
   "pygments_lexer": "ipython3",
   "version": "3.10.18"
  }
 },
 "nbformat": 4,
 "nbformat_minor": 5
}
